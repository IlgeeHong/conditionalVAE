{
 "cells": [
  {
   "cell_type": "code",
   "execution_count": 6,
   "metadata": {},
   "outputs": [],
   "source": [
    "import dgl\n",
    "import torch\n",
    "import torch.nn as nn\n",
    "import torch.nn.functional as F\n",
    "import numpy as np\n",
    "import math\n",
    "import pdb\n",
    "from matplotlib import pyplot as plt\n",
    "from torch.nn import init\n",
    "from dgl.nn import GraphConv\n",
    "from util import onehot\n",
    "from util import generate_onehot\n",
    "from distribution import log_standard_categorical\n",
    "from fullGCN_model_with_feature import AuxiliaryDeepGraphGenerativeModel \n",
    "from tools import EarlyStopping"
   ]
  },
  {
   "cell_type": "code",
   "execution_count": 7,
   "metadata": {},
   "outputs": [
    {
     "name": "stdout",
     "output_type": "stream",
     "text": [
      "  NumNodes: 2708\n",
      "  NumEdges: 10556\n",
      "  NumFeats: 1433\n",
      "  NumClasses: 7\n",
      "  NumTrainingSamples: 140\n",
      "  NumValidationSamples: 500\n",
      "  NumTestSamples: 1000\n",
      "Done loading data from cached files.\n",
      "Number of categories: 7\n"
     ]
    }
   ],
   "source": [
    "# loading cora dataset\n",
    "import dgl.data\n",
    "dataset = dgl.data.CoraGraphDataset()\n",
    "print('Number of categories:',dataset.num_classes)"
   ]
  },
  {
   "cell_type": "code",
   "execution_count": 8,
   "metadata": {},
   "outputs": [
    {
     "name": "stdout",
     "output_type": "stream",
     "text": [
      "----Data statistics------'\n",
      "  #Edges 10556\n",
      "  #Classes 7\n",
      "  #Train samples 140\n",
      "  #Val samples 500\n",
      "  #Test samples 1000\n"
     ]
    }
   ],
   "source": [
    "g = dataset[0]\n",
    "\n",
    "features = g.ndata['feat']\n",
    "lab = g.ndata['label']\n",
    "train_mask = g.ndata['train_mask']\n",
    "val_mask = g.ndata['val_mask']\n",
    "test_mask = g.ndata['test_mask']\n",
    "in_feats = features.shape[1]\n",
    "n_classes = dataset.num_classes\n",
    "n_edges = g.number_of_edges()\n",
    "print(\"\"\"----Data statistics------'\n",
    "  #Edges %d\n",
    "  #Classes %d\n",
    "  #Train samples %d\n",
    "  #Val samples %d\n",
    "  #Test samples %d\"\"\" %\n",
    "      (n_edges, n_classes,\n",
    "       train_mask.int().sum().item(),\n",
    "       val_mask.int().sum().item(),\n",
    "       test_mask.int().sum().item()))\n",
    "\n",
    "# add self loop\n",
    "g = dgl.remove_self_loop(g)\n",
    "g = dgl.add_self_loop(g)\n",
    "n_edges = g.number_of_edges()\n",
    "adj = g.adj().to_dense()\n",
    "\n",
    "# normalization\n",
    "degs = g.in_degrees().float()\n",
    "norm = torch.pow(degs, -0.5)\n",
    "norm[torch.isinf(norm)] = 0\n",
    "g.ndata['norm'] = norm.unsqueeze(1)\n",
    "    \n",
    "# convert y into onehot\n",
    "encode = onehot(dataset.num_classes)\n",
    "labels = torch.zeros(2708,dataset.num_classes)\n",
    "for i in range(g.ndata['label'].size()[0]):\n",
    "    labels[i] = encode(g.ndata['label'][i])"
   ]
  },
  {
   "cell_type": "code",
   "execution_count": 9,
   "metadata": {
    "scrolled": true
   },
   "outputs": [
    {
     "data": {
      "text/plain": [
       "AuxiliaryDeepGraphGenerativeModel(\n",
       "  (encoder): Encoder(\n",
       "    (hidden): ModuleList(\n",
       "      (0): GraphConv(in=1447, out=16, normalization=both, activation=None)\n",
       "    )\n",
       "    (sample): GaussianSample(\n",
       "      (mu): GraphConv(in=16, out=7, normalization=both, activation=None)\n",
       "      (log_var): GraphConv(in=16, out=7, normalization=both, activation=None)\n",
       "    )\n",
       "  )\n",
       "  (decoder): Decoder(\n",
       "    (output_activation): Sigmoid()\n",
       "  )\n",
       "  (classifier): Classifier(\n",
       "    (hidden): GraphConv(in=1440, out=16, normalization=both, activation=None)\n",
       "    (logits): GraphConv(in=16, out=7, normalization=both, activation=None)\n",
       "  )\n",
       "  (aux_encoder): Encoder(\n",
       "    (hidden): ModuleList(\n",
       "      (0): GraphConv(in=1433, out=16, normalization=both, activation=None)\n",
       "    )\n",
       "    (sample): GaussianSample(\n",
       "      (mu): GraphConv(in=16, out=7, normalization=both, activation=None)\n",
       "      (log_var): GraphConv(in=16, out=7, normalization=both, activation=None)\n",
       "    )\n",
       "  )\n",
       "  (aux_decoder): Encoder(\n",
       "    (hidden): ModuleList(\n",
       "      (0): GraphConv(in=1447, out=16, normalization=both, activation=None)\n",
       "    )\n",
       "    (sample): GaussianSample(\n",
       "      (mu): GraphConv(in=16, out=7, normalization=both, activation=None)\n",
       "      (log_var): GraphConv(in=16, out=7, normalization=both, activation=None)\n",
       "    )\n",
       "  )\n",
       "  (decoder_X): Decoder_X(\n",
       "    (hidden): ModuleList(\n",
       "      (0): Linear(in_features=21, out_features=16, bias=True)\n",
       "    )\n",
       "    (reconstruction): Linear(in_features=16, out_features=1433, bias=True)\n",
       "    (output_activation): Sigmoid()\n",
       "  )\n",
       ")"
      ]
     },
     "execution_count": 9,
     "metadata": {},
     "output_type": "execute_result"
    }
   ],
   "source": [
    "y_dim = 7\n",
    "z_dim = 7 # 7\n",
    "a_dim = 7 # 7\n",
    "h_dim = [16] # 16 \n",
    "\n",
    "# g_dim = 2708\n",
    "\n",
    "model = AuxiliaryDeepGraphGenerativeModel([1433, y_dim, z_dim, a_dim, h_dim]) #,g_dim\n",
    "# flow = NormalizingFlows(7, n_flows=3)\n",
    "# model.add_flow(flow)\n",
    "model"
   ]
  },
  {
   "cell_type": "code",
   "execution_count": 10,
   "metadata": {},
   "outputs": [],
   "source": [
    "def compute_loss_para(adj):\n",
    "    pos_weight = ((adj.shape[0] * adj.shape[0] - adj.sum()) / adj.sum())\n",
    "    norm = adj.shape[0] * adj.shape[0] / float((adj.shape[0] * adj.shape[0] - adj.sum()) * 2)\n",
    "    weight_mask = adj.view(-1) == 1\n",
    "    weight_tensor = torch.ones(weight_mask.size(0))\n",
    "    weight_tensor[weight_mask] = pos_weight\n",
    "    return weight_tensor, norm"
   ]
  },
  {
   "cell_type": "code",
   "execution_count": 11,
   "metadata": {},
   "outputs": [
    {
     "ename": "NameError",
     "evalue": "name 'DeterministicWarmup' is not defined",
     "output_type": "error",
     "traceback": [
      "\u001b[0;31m---------------------------------------------------------------------------\u001b[0m",
      "\u001b[0;31mNameError\u001b[0m                                 Traceback (most recent call last)",
      "\u001b[0;32m<ipython-input-11-49505e2b2b5d>\u001b[0m in \u001b[0;36m<module>\u001b[0;34m\u001b[0m\n\u001b[1;32m     15\u001b[0m \u001b[0;31m# We will need to use warm-up in order to achieve good performance.\u001b[0m\u001b[0;34m\u001b[0m\u001b[0;34m\u001b[0m\u001b[0;34m\u001b[0m\u001b[0m\n\u001b[1;32m     16\u001b[0m \u001b[0;31m# Over 200 calls to SVI we change the autoencoder from deterministic to stochastic.\u001b[0m\u001b[0;34m\u001b[0m\u001b[0;34m\u001b[0m\u001b[0;34m\u001b[0m\u001b[0m\n\u001b[0;32m---> 17\u001b[0;31m \u001b[0mbeta\u001b[0m \u001b[0;34m=\u001b[0m \u001b[0mDeterministicWarmup\u001b[0m\u001b[0;34m(\u001b[0m\u001b[0mn\u001b[0m \u001b[0;34m=\u001b[0m \u001b[0;36m200\u001b[0m\u001b[0;34m)\u001b[0m\u001b[0;34m\u001b[0m\u001b[0;34m\u001b[0m\u001b[0m\n\u001b[0m",
      "\u001b[0;31mNameError\u001b[0m: name 'DeterministicWarmup' is not defined"
     ]
    }
   ],
   "source": [
    "n1 = torch.sum(train_mask.float())\n",
    "n2 = torch.sum(val_mask.float())\n",
    "\n",
    "alpha = 2 * (n2 + n1) / n1\n",
    "\n",
    "loss_fn1 = F.binary_cross_entropy\n",
    "loss_fn2 = nn.CrossEntropyLoss()\n",
    "\n",
    "weight_tensor, norm = compute_loss_para(adj)\n",
    "weight_tensor_train = weight_tensor.reshape((2708,2708))[train_mask][:,train_mask]\n",
    "weight_tensor_val = weight_tensor.reshape((2708,2708))[val_mask][:,val_mask]\n",
    "\n",
    "optimizer = torch.optim.Adam(model.parameters(), lr=1e-2, weight_decay=5e-4)\n",
    "\n",
    "# We will need to use warm-up in order to achieve good performance.\n",
    "# Over 200 calls to SVI we change the autoencoder from deterministic to stochastic.\n",
    "beta = DeterministicWarmup(n = 200)"
   ]
  },
  {
   "cell_type": "code",
   "execution_count": 12,
   "metadata": {},
   "outputs": [
    {
     "name": "stdout",
     "output_type": "stream",
     "text": [
      "Epoch: 10\n",
      "[Train]\t\t J_a: 21.81, accuracy: 0.38\n",
      "[Validation]\t J_a: 21.70, accuracy: 0.21\n",
      "Epoch: 20\n",
      "[Train]\t\t J_a: 20.92, accuracy: 0.46\n",
      "[Validation]\t J_a: 21.26, accuracy: 0.28\n",
      "Epoch: 30\n",
      "[Train]\t\t J_a: 20.20, accuracy: 0.41\n",
      "[Validation]\t J_a: 20.76, accuracy: 0.23\n",
      "Epoch: 40\n",
      "[Train]\t\t J_a: 19.12, accuracy: 0.59\n",
      "[Validation]\t J_a: 20.04, accuracy: 0.40\n",
      "Epoch: 50\n",
      "[Train]\t\t J_a: 17.87, accuracy: 0.58\n",
      "[Validation]\t J_a: 19.05, accuracy: 0.43\n",
      "Epoch: 60\n",
      "[Train]\t\t J_a: 16.79, accuracy: 0.79\n",
      "[Validation]\t J_a: 18.15, accuracy: 0.66\n",
      "Epoch: 70\n",
      "[Train]\t\t J_a: 15.90, accuracy: 0.86\n",
      "[Validation]\t J_a: 17.28, accuracy: 0.73\n",
      "Epoch: 80\n",
      "[Train]\t\t J_a: 15.38, accuracy: 0.85\n",
      "[Validation]\t J_a: 16.85, accuracy: 0.72\n",
      "Epoch: 90\n",
      "[Train]\t\t J_a: 14.95, accuracy: 0.89\n",
      "[Validation]\t J_a: 16.41, accuracy: 0.76\n",
      "Epoch: 100\n",
      "[Train]\t\t J_a: 14.73, accuracy: 0.87\n",
      "[Validation]\t J_a: 16.27, accuracy: 0.75\n",
      "Epoch: 110\n",
      "[Train]\t\t J_a: 14.46, accuracy: 0.94\n",
      "[Validation]\t J_a: 16.17, accuracy: 0.74\n",
      "Early Stopping\n"
     ]
    }
   ],
   "source": [
    "early_stopping = EarlyStopping(patience=20)\n",
    "\n",
    "for epoch in range(1, 201):\n",
    "    \n",
    "    ###################\n",
    "    # train the model #\n",
    "    ###################\n",
    "    model.train()\n",
    "    optimizer.zero_grad()\n",
    "    \n",
    "    reconstruction, reconstruction_X = model(g, features, labels)\n",
    "    likelihood_adj = -norm*loss_fn1(reconstruction[train_mask][:,train_mask], adj[train_mask][:,train_mask], weight = weight_tensor_train)\n",
    "    likelihood_X = -loss_fn1(reconstruction_X[train_mask], features[train_mask])\n",
    "    prior = -log_standard_categorical(labels[train_mask])\n",
    "    kld = -model.kl_divergence[train_mask] # kld has a numerical issue\n",
    "    \n",
    "    elbo = likelihood_adj + likelihood_X + prior - kld\n",
    "    \n",
    "    L = -torch.mean(elbo)\n",
    "    \n",
    "    logits = model.classify(g, features)\n",
    "    \n",
    "    classication_loss = loss_fn2(logits[train_mask], lab[train_mask])\n",
    "\n",
    "    J_alpha = L + alpha * classication_loss\n",
    "\n",
    "    J_alpha.backward()\n",
    "    optimizer.step()\n",
    "\n",
    "    total_loss = J_alpha.item()\n",
    "    \n",
    "    _, pred_idx = torch.max(logits[train_mask], 1)\n",
    "    _, lab_idx = torch.max(labels[train_mask], 1)\n",
    "    \n",
    "    accuracy = torch.mean((pred_idx == lab_idx).float())\n",
    "    \n",
    "    if epoch % 10 == 0:\n",
    "        print(\"Epoch: {}\".format(epoch))\n",
    "        print(\"[Train]\\t\\t J_a: {:.2f}, accuracy: {:.2f}\".format(total_loss, accuracy))\n",
    "        \n",
    "    ######################\n",
    "    # validate the model #\n",
    "    ######################\n",
    "    model.eval()\n",
    "    \n",
    "    likelihood_adj = -norm*loss_fn1(reconstruction[val_mask][:,val_mask], adj[val_mask][:,val_mask], weight = weight_tensor_val)\n",
    "    likelihood_X = - loss_fn1(reconstruction_X[val_mask], features[val_mask])\n",
    "    prior = -log_standard_categorical(labels[val_mask])\n",
    "    kld = -model.kl_divergence[val_mask] # kld has a numerical issue\n",
    "\n",
    "    elbo = likelihood_adj + likelihood_X + prior - kld\n",
    "    \n",
    "    L = -torch.mean(elbo)\n",
    "    \n",
    "    logits = model.classify(g, features)\n",
    "\n",
    "    classication_loss = loss_fn2(logits[val_mask], lab[val_mask])\n",
    "\n",
    "    J_alpha = L + alpha * classication_loss\n",
    "    \n",
    "    total_loss = J_alpha.item()\n",
    "\n",
    "    _, pred_idx = torch.max(logits[val_mask], 1)\n",
    "    _, lab_idx = torch.max(labels[val_mask], 1)\n",
    "    \n",
    "    accuracy = torch.mean((pred_idx == lab_idx).float())\n",
    "        \n",
    "    if epoch % 10 == 0:\n",
    "        print(\"[Validation]\\t J_a: {:.2f}, accuracy: {:.2f}\".format(total_loss, accuracy))\n",
    "        \n",
    "    early_stopping(accuracy)\n",
    "    \n",
    "    if early_stopping.early_stop:\n",
    "        print(\"Early Stopping\")\n",
    "        break"
   ]
  },
  {
   "cell_type": "code",
   "execution_count": 5,
   "metadata": {},
   "outputs": [
    {
     "ename": "NameError",
     "evalue": "name 'model' is not defined",
     "output_type": "error",
     "traceback": [
      "\u001b[0;31m---------------------------------------------------------------------------\u001b[0m",
      "\u001b[0;31mNameError\u001b[0m                                 Traceback (most recent call last)",
      "\u001b[0;32m<ipython-input-5-20bdec94fb5a>\u001b[0m in \u001b[0;36m<module>\u001b[0;34m\u001b[0m\n\u001b[0;32m----> 1\u001b[0;31m \u001b[0mmodel\u001b[0m\u001b[0;34m.\u001b[0m\u001b[0meval\u001b[0m\u001b[0;34m(\u001b[0m\u001b[0;34m)\u001b[0m\u001b[0;34m\u001b[0m\u001b[0;34m\u001b[0m\u001b[0m\n\u001b[0m\u001b[1;32m      2\u001b[0m \u001b[0;34m\u001b[0m\u001b[0m\n\u001b[1;32m      3\u001b[0m \u001b[0mlogits\u001b[0m \u001b[0;34m=\u001b[0m \u001b[0mmodel\u001b[0m\u001b[0;34m.\u001b[0m\u001b[0mclassify\u001b[0m\u001b[0;34m(\u001b[0m\u001b[0mg\u001b[0m\u001b[0;34m,\u001b[0m \u001b[0mfeatures\u001b[0m\u001b[0;34m)\u001b[0m\u001b[0;34m\u001b[0m\u001b[0;34m\u001b[0m\u001b[0m\n\u001b[1;32m      4\u001b[0m \u001b[0m_\u001b[0m\u001b[0;34m,\u001b[0m \u001b[0mpred_idx\u001b[0m \u001b[0;34m=\u001b[0m \u001b[0mtorch\u001b[0m\u001b[0;34m.\u001b[0m\u001b[0mmax\u001b[0m\u001b[0;34m(\u001b[0m\u001b[0mlogits\u001b[0m\u001b[0;34m[\u001b[0m\u001b[0mtest_mask\u001b[0m\u001b[0;34m]\u001b[0m\u001b[0;34m,\u001b[0m \u001b[0;36m1\u001b[0m\u001b[0;34m)\u001b[0m\u001b[0;34m\u001b[0m\u001b[0;34m\u001b[0m\u001b[0m\n\u001b[1;32m      5\u001b[0m \u001b[0m_\u001b[0m\u001b[0;34m,\u001b[0m \u001b[0mlab_idx\u001b[0m \u001b[0;34m=\u001b[0m \u001b[0mtorch\u001b[0m\u001b[0;34m.\u001b[0m\u001b[0mmax\u001b[0m\u001b[0;34m(\u001b[0m\u001b[0mlabels\u001b[0m\u001b[0;34m[\u001b[0m\u001b[0mtest_mask\u001b[0m\u001b[0;34m]\u001b[0m\u001b[0;34m,\u001b[0m \u001b[0;36m1\u001b[0m\u001b[0;34m)\u001b[0m\u001b[0;34m\u001b[0m\u001b[0;34m\u001b[0m\u001b[0m\n",
      "\u001b[0;31mNameError\u001b[0m: name 'model' is not defined"
     ]
    }
   ],
   "source": [
    "model.eval()\n",
    "\n",
    "logits = model.classify(g, features)\n",
    "_, pred_idx = torch.max(logits[test_mask], 1)\n",
    "_, lab_idx = torch.max(labels[test_mask], 1)\n",
    "accuracy = torch.mean((pred_idx == lab_idx).float())\n",
    "print(accuracy)"
   ]
  },
  {
   "cell_type": "code",
   "execution_count": null,
   "metadata": {},
   "outputs": [],
   "source": []
  }
 ],
 "metadata": {
  "kernelspec": {
   "display_name": "Python 3",
   "language": "python",
   "name": "python3"
  },
  "language_info": {
   "codemirror_mode": {
    "name": "ipython",
    "version": 3
   },
   "file_extension": ".py",
   "mimetype": "text/x-python",
   "name": "python",
   "nbconvert_exporter": "python",
   "pygments_lexer": "ipython3",
   "version": "3.8.5"
  }
 },
 "nbformat": 4,
 "nbformat_minor": 4
}
